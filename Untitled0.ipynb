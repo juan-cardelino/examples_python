{
 "metadata": {
  "name": "Untitled0"
 },
 "nbformat": 3,
 "nbformat_minor": 0,
 "worksheets": [
  {
   "cells": [
    {
     "cell_type": "code",
     "collapsed": false,
     "input": [
      "from matplotlib import pyplot as plt\n",
      "import numpy as np\n",
      "\n",
      "plt.xkcd()\n",
      "\n",
      "fig = plt.figure()\n",
      "ax = fig.add_subplot(1, 1, 1)\n",
      "ax.spines['right'].set_color('none')\n",
      "ax.spines['top'].set_color('none')\n",
      "plt.xticks([])\n",
      "plt.yticks([])\n",
      "ax.set_ylim([-30, 10])\n",
      "\n",
      "data = np.ones(100)\n",
      "data[70:] -= np.arange(30)\n",
      "\n",
      "plt.annotate(\n",
      "    'THE DAY I REALIZED\\nI COULD COOK BACON\\nWHENEVER I WANTED',\n",
      "    xy=(70, 1), arrowprops=dict(arrowstyle='->'), xytext=(15, -10))\n",
      "\n",
      "plt.plot(data)\n",
      "\n",
      "plt.xlabel('time')\n",
      "plt.ylabel('my overall health')\n",
      "\n",
      "fig = plt.figure()\n",
      "ax = fig.add_subplot(1, 1, 1)\n",
      "ax.bar([-0.125, 1.0-0.125], [0, 100], 0.25)\n",
      "ax.spines['right'].set_color('none')\n",
      "ax.spines['top'].set_color('none')\n",
      "ax.xaxis.set_ticks_position('bottom')\n",
      "ax.set_xticks([0, 1])\n",
      "ax.set_xlim([-0.5, 1.5])\n",
      "ax.set_ylim([0, 110])\n",
      "ax.set_xticklabels(['CONFIRMED BY\\nEXPERIMENT', 'REFUTED BY\\nEXPERIMENT'])\n",
      "plt.yticks([])\n",
      "\n",
      "plt.title(\"CLAIMS OF SUPERNATURAL POWERS\")\n",
      "\n",
      "plt.show()"
     ],
     "language": "python",
     "metadata": {},
     "outputs": [
      {
       "ename": "SyntaxError",
       "evalue": "invalid syntax (<ipython-input-1-7f2c4f0c8c63>, line 1)",
       "output_type": "pyerr",
       "traceback": [
        "\u001b[0;36m  File \u001b[0;32m\"<ipython-input-1-7f2c4f0c8c63>\"\u001b[0;36m, line \u001b[0;32m1\u001b[0m\n\u001b[0;31m    from matplotlib.pyplot as plt\u001b[0m\n\u001b[0m                            ^\u001b[0m\n\u001b[0;31mSyntaxError\u001b[0m\u001b[0;31m:\u001b[0m invalid syntax\n"
       ]
      }
     ],
     "prompt_number": 1
    }
   ],
   "metadata": {}
  }
 ]
}